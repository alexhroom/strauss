{
 "cells": [
  {
   "cell_type": "markdown",
   "id": "offshore-farming",
   "metadata": {},
   "source": [
    "# 8.3: Approximations of Waves\n",
    "\n",
    "Here we approximate waves. The technical challenge here is that there are two boundary conditions! The same conditions are used for all of the approximations; the main parameter for stability is \n",
    "\n",
    "$$s = (c(\\Delta t)/(\\Delta x))^2$$\n",
    "\n",
    "which we will modify via changing the wave speed."
   ]
  },
  {
   "cell_type": "code",
   "execution_count": null,
   "id": "reflected-vampire",
   "metadata": {},
   "outputs": [],
   "source": [
    "from math import sqrt\n",
    "\n",
    "import strauss as st\n",
    "import numpy as np\n",
    "\n",
    "from IPython import display  # for rendering animations! :)"
   ]
  },
  {
   "cell_type": "markdown",
   "id": "liked-interference",
   "metadata": {},
   "source": [
    "### Example 1 and 2\n",
    "\n",
    "Here we show the cases for $s = 1$ and $s = 2.$ As for diffusion, we use $\\Delta x = 0.005$ and $\\Delta t = (\\Delta x)^2$, so we choose $s$ via letting the wave speed $c$ equal $\\frac{\\sqrt{s}}{\\Delta x}$."
   ]
  },
  {
   "cell_type": "code",
   "execution_count": null,
   "id": "commercial-russia",
   "metadata": {},
   "outputs": [],
   "source": [
    "c = lambda s: sqrt(s)/0.005\n",
    "def sec_83_phi(j):\n",
    "    if np.isclose(j, 7*0.005) or np.isclose(j, 9*0.005):\n",
    "        return 1\n",
    "    elif np.isclose(j, 8*0.005):\n",
    "        return 2\n",
    "    return 0\n",
    "sec_83_psi = lambda j: 0\n",
    "\n",
    "ex_831_stable_system = (st.System(16, 0.005, 0.005**2) \n",
    "                        + st.scheme.Wave((sec_83_phi, sec_83_psi), wave_speed=c(1))\n",
    "                        + st.boundary.Dirichlet(0, 0))\n",
    "ex_831_unstable_system = (st.System(16, 0.005, 0.005**2) \n",
    "                          + st.scheme.Wave((sec_83_phi, sec_83_psi), wave_speed=c(2))\n",
    "                          + st.boundary.Dirichlet(0, 0))"
   ]
  },
  {
   "cell_type": "code",
   "execution_count": null,
   "id": "standing-potato",
   "metadata": {},
   "outputs": [],
   "source": [
    "# stable system:\n",
    "ex_831_stable_system.run(7, print_state=True)\n",
    "anim = ex_831_stable_system.animate(9)\n",
    "video = anim.to_html5_video()\n",
    "html = display.HTML(video)\n",
    "display.display(html)"
   ]
  },
  {
   "cell_type": "code",
   "execution_count": null,
   "id": "provincial-polymer",
   "metadata": {},
   "outputs": [],
   "source": [
    "# unstable system:\n",
    "ex_831_unstable_system.run(4, print_state=True)\n",
    "anim = ex_831_unstable_system.animate(6)\n",
    "video = anim.to_html5_video()\n",
    "html = display.HTML(video)\n",
    "display.display(html)"
   ]
  },
  {
   "cell_type": "code",
   "execution_count": null,
   "id": "experimental-article",
   "metadata": {},
   "outputs": [],
   "source": []
  }
 ],
 "metadata": {
  "kernelspec": {
   "display_name": "Python 3 (ipykernel)",
   "language": "python",
   "name": "python3"
  },
  "language_info": {
   "codemirror_mode": {
    "name": "ipython",
    "version": 3
   },
   "file_extension": ".py",
   "mimetype": "text/x-python",
   "name": "python",
   "nbconvert_exporter": "python",
   "pygments_lexer": "ipython3",
   "version": "3.9.2"
  }
 },
 "nbformat": 4,
 "nbformat_minor": 5
}
