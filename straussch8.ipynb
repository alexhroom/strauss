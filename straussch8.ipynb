{
 "cells": [
  {
   "cell_type": "markdown",
   "metadata": {},
   "source": [
    "# Chapter 8 of Partial Differential Equations: An Introduction by Walter A. Strauss\n",
    "\n",
    "This notebook attempts to recreate the methods and examples of *Chapter 8, Computation of Solutions* from the book *Partial Differential Equations: An Introduction* by Walter A. Strauss.\n",
    "\n",
    "The general code for a system is available in the folder `./strauss`."
   ]
  },
  {
   "cell_type": "code",
   "execution_count": null,
   "metadata": {},
   "outputs": [],
   "source": [
    "import strauss\n",
    "import numpy as np\n",
    "\n",
    "from IPython import display  # for rendering animations! :)"
   ]
  },
  {
   "cell_type": "markdown",
   "metadata": {},
   "source": [
    "### Example 8.1.1\n",
    "\n",
    "This first example shows the issues with a poor assumption of time step. We take the example of diffusion:\n",
    "\n",
    "$$u_t = u_{xx}$$\n",
    "\n",
    "with the simple step function $\\phi = I_{(3,4]}$ (where $I$ is the indicator function) as our initial condition.This is approximated over 10 $x$-steps of size $\\Delta x = 0.005$ each, and $\\Delta t$ is chosen to be $(\\Delta x)^2$.\n",
    "\n",
    "This produces an awful oscillatory approximation (by the maximum principle the true solution should be between 0 and 1, but here it is growing past 19!). The original example did not discuss boundary conditions, but they're not relevant to what the example is demonstrating so I chose Dirichlet boundary conditions of 0 on both ends."
   ]
  },
  {
   "cell_type": "code",
   "execution_count": null,
   "metadata": {
    "scrolled": true
   },
   "outputs": [],
   "source": [
    "ex_811_phi = lambda x: 1 if x==0.020 else 0\n",
    "ex_811_system = strauss.Diffusion(ex_811_phi, 10, 0.005, 0.005**2)\n",
    "ex_811_system.add_Dirichlet_BCs((0 ,0))\n",
    "\n",
    "ex_811_system.print_state(0)\n",
    "ex_811_system.run(5, print_state=True)"
   ]
  },
  {
   "cell_type": "markdown",
   "metadata": {},
   "source": [
    "### Example 8.2.1\n",
    "In this section, we solve our problem; the size of the $t$-mesh $\\Delta t$ relative to the size of $\\Delta x$. In particular, we create a variable\n",
    "\n",
    "$$s = \\frac{\\Delta t}{(\\Delta x)^2}$$\n",
    "\n",
    "and instead of defining $\\Delta x$ and $\\Delta t$, we define $\\Delta x$ and $s$. We find $s$ lies at the basis of a \"stability criterion\" for convergence of our numerical method."
   ]
  },
  {
   "cell_type": "markdown",
   "metadata": {},
   "source": [
    "Our example system is the following:\n",
    "\n",
    "$$\n",
    "u_t = u_{xx}\\\\\n",
    "u = 0\\text{ at }x \\in {0, \\pi}\\\\\n",
    "u(x, 0) = \\phi(x) = \\begin{cases}\n",
    "                    x & x \\in (0, \\frac{\\pi}{2})\\\\\n",
    "                    \\pi - x & (\\frac{\\pi}{2}, \\pi)\n",
    "                    \\end{cases}\n",
    "$$\n",
    "\n",
    "We find that the primary criterion for stability is whether $s$ is greater or smaller than $1/2$."
   ]
  },
  {
   "cell_type": "code",
   "execution_count": null,
   "metadata": {},
   "outputs": [],
   "source": [
    "ex_821_x_step = np.pi/20\n",
    "ex_821_t_step = lambda s: s * ex_821_x_step**2\n",
    "\n",
    "ex_821_phi = lambda x: x if x < np.pi/2 else (np.pi - x)\n",
    "\n",
    "ex_821_stable_system = strauss.Diffusion(ex_821_phi, 20, ex_821_x_step, ex_821_t_step(5/11))\n",
    "ex_821_unstable_system = strauss.Diffusion(ex_821_phi, 20, ex_821_x_step, ex_821_t_step(5/9))\n",
    "ex_821_stable_system.add_Dirichlet_BCs((0 ,0))\n",
    "ex_821_unstable_system.add_Dirichlet_BCs((0, 0))"
   ]
  },
  {
   "cell_type": "code",
   "execution_count": null,
   "metadata": {},
   "outputs": [],
   "source": [
    "ex_821_stable_system.run(200)\n",
    "ex_821_stable_system.graph()"
   ]
  },
  {
   "cell_type": "code",
   "execution_count": null,
   "metadata": {},
   "outputs": [],
   "source": [
    "ex_821_unstable_system.run(200)\n",
    "ex_821_unstable_system.graph()"
   ]
  },
  {
   "cell_type": "markdown",
   "metadata": {},
   "source": [
    "We can also animate the two system simulations; note how you can almost 'see' the errors building up in the unstable simulation!"
   ]
  },
  {
   "cell_type": "code",
   "execution_count": null,
   "metadata": {},
   "outputs": [],
   "source": [
    "anim = ex_821_stable_system.animate(200)\n",
    "video = anim.to_html5_video()\n",
    "html = display.HTML(video)\n",
    "display.display(html)"
   ]
  },
  {
   "cell_type": "code",
   "execution_count": null,
   "metadata": {},
   "outputs": [],
   "source": [
    "anim = ex_821_unstable_system.animate(20)\n",
    "video = anim.to_html5_video()\n",
    "html = display.HTML(video)\n",
    "display.display(html)"
   ]
  },
  {
   "cell_type": "markdown",
   "metadata": {},
   "source": [
    "### Neumann Boundary Conditions\n",
    "Neumann boundary conditions can be most simply implemented as forward and backward differences, but they introduce $O(\\Delta x)$ errors! To instead simply introduce $O((\\Delta x)^2)$ errors we can use centred differences, treating the boundary points as 'ghost points':\n",
    "\n",
    "$$\\frac{u^n_2 - u^n_0}{2 \\Delta x} = g(n), \\frac{u^n_j - u^n_{j-2}}{2 \\Delta x} = h(n)$$\n",
    "\n",
    "and then solve for $u^n_0$ and $u^n_j$.\n",
    "\n",
    " *(NB: Strauss introduces the 'ghost points' as extra points $u^n_{-1}$ and $u^n_{j+1}$, with the centred differences centred around $u^n_j$ and $u^n_0$ instead! I chose to use the 0th and jth point for the 'ghost points' in line with using the 0th and jth point for Dirichlet boundary conditions; avoiding messing with the length of the mesh as a result.)*\n",
    "\n",
    "We can see an example of this on the below system, identical to the previous stable example but with Neumann boundary conditions rather than Dirichlet."
   ]
  },
  {
   "cell_type": "code",
   "execution_count": null,
   "metadata": {},
   "outputs": [],
   "source": [
    "NBCs_system = strauss.Diffusion(ex_821_phi, 20, ex_821_x_step, ex_821_t_step(5/11))\n",
    "NBCs_system.add_Neumann_BCs((0 ,0))\n",
    "NBCs_system.run(200)\n",
    "\n",
    "anim = NBCs_system.animate(200)\n",
    "video = anim.to_html5_video()\n",
    "html = display.HTML(video)\n",
    "display.display(html)"
   ]
  },
  {
   "cell_type": "code",
   "execution_count": null,
   "metadata": {},
   "outputs": [],
   "source": []
  }
 ],
 "metadata": {
  "kernelspec": {
   "display_name": "Python 3 (ipykernel)",
   "language": "python",
   "name": "python3"
  },
  "language_info": {
   "codemirror_mode": {
    "name": "ipython",
    "version": 3
   },
   "file_extension": ".py",
   "mimetype": "text/x-python",
   "name": "python",
   "nbconvert_exporter": "python",
   "pygments_lexer": "ipython3",
   "version": "3.9.2"
  }
 },
 "nbformat": 4,
 "nbformat_minor": 2
}
